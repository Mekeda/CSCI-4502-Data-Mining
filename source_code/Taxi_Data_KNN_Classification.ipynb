{
 "cells": [
  {
   "cell_type": "markdown",
   "metadata": {},
   "source": [
    "# Taxi Data KNN Classification"
   ]
  },
  {
   "cell_type": "code",
   "execution_count": 13,
   "metadata": {},
   "outputs": [
    {
     "name": "stdout",
     "output_type": "stream",
     "text": [
      "0.226666666667\n"
     ]
    }
   ],
   "source": [
    "#Source: https://kevinzakka.github.io/2016/07/13/k-nearest-neighbor/\n",
    "#%pylab inline\n",
    "import numpy as np\n",
    "import pandas as pd\n",
    "from sklearn import preprocessing, cross_validation, neighbors\n",
    "from sklearn.neighbors import KNeighborsClassifier\n",
    "from sklearn.cross_validation import train_test_split\n",
    "\n",
    "#names = ['passenger_count', 'trip_distance', 'PULocationID', 'DOLocationID', 'fare_amount']\n",
    "df = pd.read_csv(\"new3_yellow_tripdata_2017-09.csv\")\n",
    "df.drop(['VendorID', 'tpep_pickup_datetime', 'tpep_dropoff_datetime', 'RatecodeID', 'store_and_fwd_flag', 'payment_type', 'extra', 'mta_tax', 'tip_amount', 'tolls_amount', 'improvement_surcharge', 'total_amount'], 1, inplace=True)\n",
    "df.head()\n",
    "\n",
    "#Features\n",
    "#X = np.array(df['passenger_count', 'trip_distance', 'DOLocationID', 'fare_amount'])\n",
    "x = np.array(df)\n",
    "\n",
    "#Labels\n",
    "df2 = pd.read_csv(\"new3_yellow_tripdata_2017-09.csv\")\n",
    "y = np.array(df2['DOLocationID'])\n",
    "\n",
    "#display(x)\n",
    "#display(y)\n",
    "\n",
    "x_train, x_test, y_train, y_test = train_test_split(x, y, test_size=0.3)\n",
    "\n",
    "clf = neighbors.KNeighborsClassifier()\n",
    "#fit the data\n",
    "clf.fit(x_train, y_train)\n",
    "#measure accuracy\n",
    "accuracy = clf.score(x_test, y_test)\n",
    "print(accuracy)"
   ]
  },
  {
   "cell_type": "code",
   "execution_count": 33,
   "metadata": {},
   "outputs": [
    {
     "name": "stdout",
     "output_type": "stream",
     "text": [
      "correlation corrcoef: \n",
      " [[ 1.         -0.03882515  0.95983168]\n",
      " [-0.03882515  1.         -0.02168654]\n",
      " [ 0.95983168 -0.02168654  1.        ]]\n"
     ]
    }
   ],
   "source": [
    "from numpy import *\n",
    "from scipy.stats import linregress\n",
    "import matplotlib.pyplot as plt\n",
    "\n",
    "df3 = pd.read_csv(\"new3_yellow_tripdata_2017-09.csv\")\n",
    "trip_dist_arr = np.array(df['trip_distance'])\n",
    "passenger_count_arr = np.array(df['passenger_count'])\n",
    "fare_amount_arr = np.array(df['fare_amount'])\n",
    "\n",
    "print(\"correlation corrcoef: \\n\", corrcoef([trip_dist_arr, passenger_count_arr, fare_amount_arr]))\n",
    "\n",
    "#Linear regression\n",
    "#print(linregress(trip_dist_arr, fare_amount_arr))"
   ]
  }
 ],
 "metadata": {
  "kernelspec": {
   "display_name": "Python 3",
   "language": "python",
   "name": "python3"
  },
  "language_info": {
   "codemirror_mode": {
    "name": "ipython",
    "version": 3
   },
   "file_extension": ".py",
   "mimetype": "text/x-python",
   "name": "python",
   "nbconvert_exporter": "python",
   "pygments_lexer": "ipython3",
   "version": "3.6.3"
  }
 },
 "nbformat": 4,
 "nbformat_minor": 2
}
